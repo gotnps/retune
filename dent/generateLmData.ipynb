{
 "cells": [
  {
   "cell_type": "code",
   "execution_count": 1,
   "metadata": {},
   "outputs": [],
   "source": [
    "import pandas as pd"
   ]
  },
  {
   "cell_type": "code",
   "execution_count": 2,
   "metadata": {},
   "outputs": [],
   "source": [
    "file_path = '/Users/got/Documents/retune/t+im/dent/label.csv'\n"
   ]
  },
  {
   "cell_type": "code",
   "execution_count": 19,
   "metadata": {},
   "outputs": [
    {
     "data": {
      "text/html": [
       "<div>\n",
       "<style scoped>\n",
       "    .dataframe tbody tr th:only-of-type {\n",
       "        vertical-align: middle;\n",
       "    }\n",
       "\n",
       "    .dataframe tbody tr th {\n",
       "        vertical-align: top;\n",
       "    }\n",
       "\n",
       "    .dataframe thead th {\n",
       "        text-align: right;\n",
       "    }\n",
       "</style>\n",
       "<table border=\"1\" class=\"dataframe\">\n",
       "  <thead>\n",
       "    <tr style=\"text-align: right;\">\n",
       "      <th></th>\n",
       "      <th>File ID</th>\n",
       "      <th>Label</th>\n",
       "    </tr>\n",
       "  </thead>\n",
       "  <tbody>\n",
       "    <tr>\n",
       "      <th>0</th>\n",
       "      <td>1_1</td>\n",
       "      <td>missing หนึ่ง เจ็ด หนึ่ง ห้า หนึ่ง สี่ หนึ่ง ส...</td>\n",
       "    </tr>\n",
       "    <tr>\n",
       "      <th>1</th>\n",
       "      <td>1_2</td>\n",
       "      <td>missing หนึ่ง หก หนึ่ง สาม สอง หนึ่ง สอง เจ็ด ...</td>\n",
       "    </tr>\n",
       "    <tr>\n",
       "      <th>2</th>\n",
       "      <td>1_3</td>\n",
       "      <td>missing หนึ่ง หก หนึ่ง สาม หนึ่ง หนึ่ง สอง สาม...</td>\n",
       "    </tr>\n",
       "    <tr>\n",
       "      <th>3</th>\n",
       "      <td>1_4</td>\n",
       "      <td>crown หนึ่ง เจ็ด สอง หนึ่ง สอง สาม สอง ห้า สอง...</td>\n",
       "    </tr>\n",
       "    <tr>\n",
       "      <th>4</th>\n",
       "      <td>1_5</td>\n",
       "      <td>crown หนึ่ง เจ็ด หนึ่ง สี่ หนึ่ง สอง หนึ่ง หนึ...</td>\n",
       "    </tr>\n",
       "    <tr>\n",
       "      <th>...</th>\n",
       "      <td>...</td>\n",
       "      <td>...</td>\n",
       "    </tr>\n",
       "    <tr>\n",
       "      <th>9732</th>\n",
       "      <td>TS4-48_cl3</td>\n",
       "      <td>distal buccal buccal distal buccal buccal ling...</td>\n",
       "    </tr>\n",
       "    <tr>\n",
       "      <th>9733</th>\n",
       "      <td>TS4-49_cl0</td>\n",
       "      <td>lingual buccal ถึง buccal mesial buccal distal...</td>\n",
       "    </tr>\n",
       "    <tr>\n",
       "      <th>9734</th>\n",
       "      <td>TS4-49_cl1</td>\n",
       "      <td>lingual buccal ถึง buccal mesial buccal distal...</td>\n",
       "    </tr>\n",
       "    <tr>\n",
       "      <th>9735</th>\n",
       "      <td>TS4-49_cl2</td>\n",
       "      <td>lingual buccal ถึง buccal mesial buccal distal...</td>\n",
       "    </tr>\n",
       "    <tr>\n",
       "      <th>9736</th>\n",
       "      <td>TS4-49_cl3</td>\n",
       "      <td>lingual buccal ถึง buccal mesial buccal distal...</td>\n",
       "    </tr>\n",
       "  </tbody>\n",
       "</table>\n",
       "<p>9737 rows × 2 columns</p>\n",
       "</div>"
      ],
      "text/plain": [
       "         File ID                                              Label\n",
       "0            1_1  missing หนึ่ง เจ็ด หนึ่ง ห้า หนึ่ง สี่ หนึ่ง ส...\n",
       "1            1_2  missing หนึ่ง หก หนึ่ง สาม สอง หนึ่ง สอง เจ็ด ...\n",
       "2            1_3  missing หนึ่ง หก หนึ่ง สาม หนึ่ง หนึ่ง สอง สาม...\n",
       "3            1_4  crown หนึ่ง เจ็ด สอง หนึ่ง สอง สาม สอง ห้า สอง...\n",
       "4            1_5  crown หนึ่ง เจ็ด หนึ่ง สี่ หนึ่ง สอง หนึ่ง หนึ...\n",
       "...          ...                                                ...\n",
       "9732  TS4-48_cl3  distal buccal buccal distal buccal buccal ling...\n",
       "9733  TS4-49_cl0  lingual buccal ถึง buccal mesial buccal distal...\n",
       "9734  TS4-49_cl1  lingual buccal ถึง buccal mesial buccal distal...\n",
       "9735  TS4-49_cl2  lingual buccal ถึง buccal mesial buccal distal...\n",
       "9736  TS4-49_cl3  lingual buccal ถึง buccal mesial buccal distal...\n",
       "\n",
       "[9737 rows x 2 columns]"
      ]
     },
     "execution_count": 19,
     "metadata": {},
     "output_type": "execute_result"
    }
   ],
   "source": [
    "df = pd.read_csv(file_path)\n",
    "df"
   ]
  },
  {
   "cell_type": "code",
   "execution_count": 22,
   "metadata": {},
   "outputs": [
    {
     "name": "stdout",
     "output_type": "stream",
     "text": [
      "Done! Check the output file\n"
     ]
    }
   ],
   "source": [
    "labels = df['Label']\n",
    "\n",
    "output_file_path = '/Users/got/Documents/retune/t+im/dent/word-level-formatted.txt'\n",
    "\n",
    "with  open(output_file_path, 'w') as file:\n",
    "    for _ in range(10): \n",
    "        for label in labels:\n",
    "            file.write(str(label) + \" \" + \"\\n\")\n",
    "print(\"Done! Check the output file\")\n"
   ]
  },
  {
   "cell_type": "code",
   "execution_count": 23,
   "metadata": {},
   "outputs": [
    {
     "name": "stdout",
     "output_type": "stream",
     "text": [
      "['l', 'i', 'n', 'g', 'u', 'a', 'l', '#', 'b', 'u', 'c', 'c', 'a', 'l', '#', 'ถ', 'ึ', 'ง', '#', 'b', 'u', 'c', 'c', 'a', 'l', '#', 'm', 'e', 's', 'i', 'a', 'l', '#', 'b', 'u', 'c', 'c', 'a', 'l', '#', 'd', 'i', 's', 't', 'a', 'l', '#', 'd', 'i', 's', 't', 'a', 'l', '#', 'l', 'i', 'n', 'g', 'u', 'a', 'l', '#', 'ถ', 'ึ', 'ง']\n",
      "l i n g u a l # b u c c a l # ถ ึ ง # b u c c a l # m e s i a l # b u c c a l # d i s t a l # d i s t a l # l i n g u a l # ถ ึ ง\n",
      "Done! Check the output file\n"
     ]
    }
   ],
   "source": [
    "output_file_path = '/Users/got/Documents/retune/t+im/dent/char-level-formatted.txt'\n",
    "label_list = []\n",
    "label = \"\"\n",
    "with  open(output_file_path, 'w') as file:\n",
    "    for _ in range(10):\n",
    "        for label in labels:\n",
    "            label = label.replace(\" \", \"#\")\n",
    "            label_list = [char for char in label]\n",
    "            label = \" \".join(label_list)\n",
    "            file.write(str(label) + \"\\n\")\n",
    "print(label_list)\n",
    "print(label)\n",
    "print(\"Done! Check the output file\")"
   ]
  },
  {
   "cell_type": "code",
   "execution_count": 20,
   "metadata": {},
   "outputs": [],
   "source": [
    "labels = df['Label']"
   ]
  },
  {
   "cell_type": "code",
   "execution_count": 21,
   "metadata": {},
   "outputs": [],
   "source": [
    "first = ['ห้า', 'หก', 'เจ็ด', 'แปด', 'bridge', 'crown', 'undo']\n",
    "second = ['สอง', 'implant', 'lingual', 'probingdepth', 'pdre']"
   ]
  },
  {
   "cell_type": "code",
   "execution_count": 22,
   "metadata": {},
   "outputs": [
    {
     "name": "stdout",
     "output_type": "stream",
     "text": [
      "ห้า count : 2259\n",
      "หก count : 2058\n",
      "เจ็ด count : 1806\n",
      "แปด count : 1778\n",
      "bridge count : 1728\n",
      "crown count : 1978\n",
      "undo count : 2400\n"
     ]
    }
   ],
   "source": [
    "for word in first : \n",
    "    count = 0\n",
    "    for label in labels :\n",
    "        if word in label:\n",
    "            count += 1\n",
    "    print(f\"{word} count : {count}\")"
   ]
  },
  {
   "cell_type": "code",
   "execution_count": 23,
   "metadata": {},
   "outputs": [
    {
     "name": "stdout",
     "output_type": "stream",
     "text": [
      "สอง count : 4591\n",
      "implant count : 1984\n",
      "lingual count : 3135\n",
      "probingdepth count : 2347\n",
      "pdre count : 2268\n"
     ]
    }
   ],
   "source": [
    "for word in second : \n",
    "    count = 0\n",
    "    for label in labels :\n",
    "        if word in label:\n",
    "            count += 1\n",
    "    print(f\"{word} count : {count}\")"
   ]
  },
  {
   "cell_type": "code",
   "execution_count": 24,
   "metadata": {},
   "outputs": [
    {
     "name": "stdout",
     "output_type": "stream",
     "text": [
      "ห้า count : 2533\n",
      "หก count : 2416\n",
      "เจ็ด count : 2122\n",
      "แปด count : 2032\n",
      "bridge count : 1732\n",
      "crown count : 1978\n",
      "undo count : 4122\n"
     ]
    }
   ],
   "source": [
    "for word in first : \n",
    "    count = 0\n",
    "    for label in labels :\n",
    "        xs = label.split()\n",
    "        for x in  xs:\n",
    "            if x == word:\n",
    "                count +=1\n",
    "    print(f\"{word} count : {count}\")"
   ]
  },
  {
   "cell_type": "code",
   "execution_count": 25,
   "metadata": {},
   "outputs": [
    {
     "name": "stdout",
     "output_type": "stream",
     "text": [
      "สอง count : 8717\n",
      "implant count : 1984\n",
      "lingual count : 4449\n",
      "probingdepth count : 2347\n",
      "pdre count : 2268\n"
     ]
    }
   ],
   "source": [
    "for word in second : \n",
    "    count = 0\n",
    "    for label in labels :\n",
    "        xs = label.split()\n",
    "        for x in  xs:\n",
    "            if x == word:\n",
    "                count +=1\n",
    "    print(f\"{word} count : {count}\")"
   ]
  },
  {
   "cell_type": "code",
   "execution_count": 26,
   "metadata": {},
   "outputs": [
    {
     "data": {
      "text/html": [
       "<div>\n",
       "<style scoped>\n",
       "    .dataframe tbody tr th:only-of-type {\n",
       "        vertical-align: middle;\n",
       "    }\n",
       "\n",
       "    .dataframe tbody tr th {\n",
       "        vertical-align: top;\n",
       "    }\n",
       "\n",
       "    .dataframe thead th {\n",
       "        text-align: right;\n",
       "    }\n",
       "</style>\n",
       "<table border=\"1\" class=\"dataframe\">\n",
       "  <thead>\n",
       "    <tr style=\"text-align: right;\">\n",
       "      <th></th>\n",
       "      <th>File ID</th>\n",
       "      <th>Label</th>\n",
       "    </tr>\n",
       "  </thead>\n",
       "  <tbody>\n",
       "    <tr>\n",
       "      <th>0</th>\n",
       "      <td>1_1</td>\n",
       "      <td>missing หนึ่ง เจ็ด หนึ่ง ห้า หนึ่ง สี่ หนึ่ง ส...</td>\n",
       "    </tr>\n",
       "    <tr>\n",
       "      <th>1</th>\n",
       "      <td>1_2</td>\n",
       "      <td>missing หนึ่ง หก หนึ่ง สาม สอง หนึ่ง สอง เจ็ด ...</td>\n",
       "    </tr>\n",
       "    <tr>\n",
       "      <th>2</th>\n",
       "      <td>1_3</td>\n",
       "      <td>missing หนึ่ง หก หนึ่ง สาม หนึ่ง หนึ่ง สอง สาม...</td>\n",
       "    </tr>\n",
       "    <tr>\n",
       "      <th>3</th>\n",
       "      <td>1_4</td>\n",
       "      <td>crown หนึ่ง เจ็ด สอง หนึ่ง สอง สาม สอง ห้า สอง...</td>\n",
       "    </tr>\n",
       "    <tr>\n",
       "      <th>4</th>\n",
       "      <td>1_5</td>\n",
       "      <td>crown หนึ่ง เจ็ด หนึ่ง สี่ หนึ่ง สอง หนึ่ง หนึ...</td>\n",
       "    </tr>\n",
       "    <tr>\n",
       "      <th>...</th>\n",
       "      <td>...</td>\n",
       "      <td>...</td>\n",
       "    </tr>\n",
       "    <tr>\n",
       "      <th>9732</th>\n",
       "      <td>TS4-48_cl3</td>\n",
       "      <td>distal buccal buccal distal buccal buccal ling...</td>\n",
       "    </tr>\n",
       "    <tr>\n",
       "      <th>9733</th>\n",
       "      <td>TS4-49_cl0</td>\n",
       "      <td>lingual buccal ถึง buccal mesial buccal distal...</td>\n",
       "    </tr>\n",
       "    <tr>\n",
       "      <th>9734</th>\n",
       "      <td>TS4-49_cl1</td>\n",
       "      <td>lingual buccal ถึง buccal mesial buccal distal...</td>\n",
       "    </tr>\n",
       "    <tr>\n",
       "      <th>9735</th>\n",
       "      <td>TS4-49_cl2</td>\n",
       "      <td>lingual buccal ถึง buccal mesial buccal distal...</td>\n",
       "    </tr>\n",
       "    <tr>\n",
       "      <th>9736</th>\n",
       "      <td>TS4-49_cl3</td>\n",
       "      <td>lingual buccal ถึง buccal mesial buccal distal...</td>\n",
       "    </tr>\n",
       "  </tbody>\n",
       "</table>\n",
       "<p>9737 rows × 2 columns</p>\n",
       "</div>"
      ],
      "text/plain": [
       "         File ID                                              Label\n",
       "0            1_1  missing หนึ่ง เจ็ด หนึ่ง ห้า หนึ่ง สี่ หนึ่ง ส...\n",
       "1            1_2  missing หนึ่ง หก หนึ่ง สาม สอง หนึ่ง สอง เจ็ด ...\n",
       "2            1_3  missing หนึ่ง หก หนึ่ง สาม หนึ่ง หนึ่ง สอง สาม...\n",
       "3            1_4  crown หนึ่ง เจ็ด สอง หนึ่ง สอง สาม สอง ห้า สอง...\n",
       "4            1_5  crown หนึ่ง เจ็ด หนึ่ง สี่ หนึ่ง สอง หนึ่ง หนึ...\n",
       "...          ...                                                ...\n",
       "9732  TS4-48_cl3  distal buccal buccal distal buccal buccal ling...\n",
       "9733  TS4-49_cl0  lingual buccal ถึง buccal mesial buccal distal...\n",
       "9734  TS4-49_cl1  lingual buccal ถึง buccal mesial buccal distal...\n",
       "9735  TS4-49_cl2  lingual buccal ถึง buccal mesial buccal distal...\n",
       "9736  TS4-49_cl3  lingual buccal ถึง buccal mesial buccal distal...\n",
       "\n",
       "[9737 rows x 2 columns]"
      ]
     },
     "execution_count": 26,
     "metadata": {},
     "output_type": "execute_result"
    }
   ],
   "source": [
    "df"
   ]
  },
  {
   "cell_type": "code",
   "execution_count": 27,
   "metadata": {},
   "outputs": [
    {
     "data": {
      "text/html": [
       "<div>\n",
       "<style scoped>\n",
       "    .dataframe tbody tr th:only-of-type {\n",
       "        vertical-align: middle;\n",
       "    }\n",
       "\n",
       "    .dataframe tbody tr th {\n",
       "        vertical-align: top;\n",
       "    }\n",
       "\n",
       "    .dataframe thead th {\n",
       "        text-align: right;\n",
       "    }\n",
       "</style>\n",
       "<table border=\"1\" class=\"dataframe\">\n",
       "  <thead>\n",
       "    <tr style=\"text-align: right;\">\n",
       "      <th></th>\n",
       "      <th>Label</th>\n",
       "    </tr>\n",
       "  </thead>\n",
       "  <tbody>\n",
       "    <tr>\n",
       "      <th>0</th>\n",
       "      <td>missing หนึ่ง เจ็ด หนึ่ง ห้า หนึ่ง สี่ หนึ่ง ส...</td>\n",
       "    </tr>\n",
       "    <tr>\n",
       "      <th>1</th>\n",
       "      <td>missing หนึ่ง หก หนึ่ง สาม สอง หนึ่ง สอง เจ็ด ...</td>\n",
       "    </tr>\n",
       "    <tr>\n",
       "      <th>2</th>\n",
       "      <td>missing หนึ่ง หก หนึ่ง สาม หนึ่ง หนึ่ง สอง สาม...</td>\n",
       "    </tr>\n",
       "    <tr>\n",
       "      <th>3</th>\n",
       "      <td>crown หนึ่ง เจ็ด สอง หนึ่ง สอง สาม สอง ห้า สอง...</td>\n",
       "    </tr>\n",
       "    <tr>\n",
       "      <th>4</th>\n",
       "      <td>crown หนึ่ง เจ็ด หนึ่ง สี่ หนึ่ง สอง หนึ่ง หนึ...</td>\n",
       "    </tr>\n",
       "    <tr>\n",
       "      <th>...</th>\n",
       "      <td>...</td>\n",
       "    </tr>\n",
       "    <tr>\n",
       "      <th>9732</th>\n",
       "      <td>distal buccal buccal distal buccal buccal ling...</td>\n",
       "    </tr>\n",
       "    <tr>\n",
       "      <th>9733</th>\n",
       "      <td>lingual buccal ถึง buccal mesial buccal distal...</td>\n",
       "    </tr>\n",
       "    <tr>\n",
       "      <th>9734</th>\n",
       "      <td>lingual buccal ถึง buccal mesial buccal distal...</td>\n",
       "    </tr>\n",
       "    <tr>\n",
       "      <th>9735</th>\n",
       "      <td>lingual buccal ถึง buccal mesial buccal distal...</td>\n",
       "    </tr>\n",
       "    <tr>\n",
       "      <th>9736</th>\n",
       "      <td>lingual buccal ถึง buccal mesial buccal distal...</td>\n",
       "    </tr>\n",
       "  </tbody>\n",
       "</table>\n",
       "<p>9737 rows × 1 columns</p>\n",
       "</div>"
      ],
      "text/plain": [
       "                                                  Label\n",
       "0     missing หนึ่ง เจ็ด หนึ่ง ห้า หนึ่ง สี่ หนึ่ง ส...\n",
       "1     missing หนึ่ง หก หนึ่ง สาม สอง หนึ่ง สอง เจ็ด ...\n",
       "2     missing หนึ่ง หก หนึ่ง สาม หนึ่ง หนึ่ง สอง สาม...\n",
       "3     crown หนึ่ง เจ็ด สอง หนึ่ง สอง สาม สอง ห้า สอง...\n",
       "4     crown หนึ่ง เจ็ด หนึ่ง สี่ หนึ่ง สอง หนึ่ง หนึ...\n",
       "...                                                 ...\n",
       "9732  distal buccal buccal distal buccal buccal ling...\n",
       "9733  lingual buccal ถึง buccal mesial buccal distal...\n",
       "9734  lingual buccal ถึง buccal mesial buccal distal...\n",
       "9735  lingual buccal ถึง buccal mesial buccal distal...\n",
       "9736  lingual buccal ถึง buccal mesial buccal distal...\n",
       "\n",
       "[9737 rows x 1 columns]"
      ]
     },
     "execution_count": 27,
     "metadata": {},
     "output_type": "execute_result"
    }
   ],
   "source": [
    "df.drop(columns=['File ID'], inplace=True)\n",
    "df"
   ]
  },
  {
   "cell_type": "code",
   "execution_count": 28,
   "metadata": {},
   "outputs": [
    {
     "name": "stdout",
     "output_type": "stream",
     "text": [
      "['ห้า', 'หก', 'เจ็ด', 'แปด', 'bridge', 'crown', 'undo']\n",
      "['สอง', 'implant', 'lingual', 'probingdepth', 'pdre']\n"
     ]
    }
   ],
   "source": [
    "print(first)\n",
    "print(second)"
   ]
  },
  {
   "cell_type": "code",
   "execution_count": 29,
   "metadata": {},
   "outputs": [],
   "source": [
    "numbers = ['ห้า', 'หก', 'เจ็ด', 'สอง']\n",
    "commands = ['bridge', 'crown', 'undo', 'implant', 'lingual', 'probingdepth', 'pdre']"
   ]
  },
  {
   "cell_type": "code",
   "execution_count": 30,
   "metadata": {},
   "outputs": [],
   "source": [
    "import random"
   ]
  },
  {
   "cell_type": "code",
   "execution_count": 31,
   "metadata": {},
   "outputs": [
    {
     "data": {
      "text/html": [
       "<div>\n",
       "<style scoped>\n",
       "    .dataframe tbody tr th:only-of-type {\n",
       "        vertical-align: middle;\n",
       "    }\n",
       "\n",
       "    .dataframe tbody tr th {\n",
       "        vertical-align: top;\n",
       "    }\n",
       "\n",
       "    .dataframe thead th {\n",
       "        text-align: right;\n",
       "    }\n",
       "</style>\n",
       "<table border=\"1\" class=\"dataframe\">\n",
       "  <thead>\n",
       "    <tr style=\"text-align: right;\">\n",
       "      <th></th>\n",
       "      <th>Label</th>\n",
       "    </tr>\n",
       "  </thead>\n",
       "  <tbody>\n",
       "    <tr>\n",
       "      <th>11732</th>\n",
       "      <td>crown ห้า ห้า หก</td>\n",
       "    </tr>\n",
       "    <tr>\n",
       "      <th>11733</th>\n",
       "      <td>crown หก ห้า ห้า สอง สอง</td>\n",
       "    </tr>\n",
       "    <tr>\n",
       "      <th>11734</th>\n",
       "      <td>crown หก เจ็ด หก เจ็ด</td>\n",
       "    </tr>\n",
       "    <tr>\n",
       "      <th>11735</th>\n",
       "      <td>crown ห้า เจ็ด ห้า</td>\n",
       "    </tr>\n",
       "    <tr>\n",
       "      <th>11736</th>\n",
       "      <td>crown เจ็ด เจ็ด สอง สอง หก</td>\n",
       "    </tr>\n",
       "  </tbody>\n",
       "</table>\n",
       "</div>"
      ],
      "text/plain": [
       "                             Label\n",
       "11732            crown ห้า ห้า หก \n",
       "11733    crown หก ห้า ห้า สอง สอง \n",
       "11734       crown หก เจ็ด หก เจ็ด \n",
       "11735          crown ห้า เจ็ด ห้า \n",
       "11736  crown เจ็ด เจ็ด สอง สอง หก "
      ]
     },
     "execution_count": 31,
     "metadata": {},
     "output_type": "execute_result"
    }
   ],
   "source": [
    "#crown\n",
    "for _ in range(2000) :\n",
    "    label = 'crown '\n",
    "    x = random.randint(3,6)\n",
    "    for _ in range(x):\n",
    "        number = random.choice(numbers)\n",
    "        label += number + ' '\n",
    "    df.loc[len(df)] = {'Label' : label}\n",
    "\n",
    "df.tail()"
   ]
  },
  {
   "cell_type": "code",
   "execution_count": 32,
   "metadata": {},
   "outputs": [
    {
     "data": {
      "text/html": [
       "<div>\n",
       "<style scoped>\n",
       "    .dataframe tbody tr th:only-of-type {\n",
       "        vertical-align: middle;\n",
       "    }\n",
       "\n",
       "    .dataframe tbody tr th {\n",
       "        vertical-align: top;\n",
       "    }\n",
       "\n",
       "    .dataframe thead th {\n",
       "        text-align: right;\n",
       "    }\n",
       "</style>\n",
       "<table border=\"1\" class=\"dataframe\">\n",
       "  <thead>\n",
       "    <tr style=\"text-align: right;\">\n",
       "      <th></th>\n",
       "      <th>Label</th>\n",
       "    </tr>\n",
       "  </thead>\n",
       "  <tbody>\n",
       "    <tr>\n",
       "      <th>13732</th>\n",
       "      <td>bridge เจ็ด เจ็ด ถึง ห้า สอง</td>\n",
       "    </tr>\n",
       "    <tr>\n",
       "      <th>13733</th>\n",
       "      <td>bridge ห้า สอง ถึง ห้า ห้า</td>\n",
       "    </tr>\n",
       "    <tr>\n",
       "      <th>13734</th>\n",
       "      <td>bridge เจ็ด สอง ถึง เจ็ด หก</td>\n",
       "    </tr>\n",
       "    <tr>\n",
       "      <th>13735</th>\n",
       "      <td>bridge ห้า เจ็ด ถึง หก หก</td>\n",
       "    </tr>\n",
       "    <tr>\n",
       "      <th>13736</th>\n",
       "      <td>bridge หก หก ถึง สอง หก</td>\n",
       "    </tr>\n",
       "  </tbody>\n",
       "</table>\n",
       "</div>"
      ],
      "text/plain": [
       "                               Label\n",
       "13732  bridge เจ็ด เจ็ด ถึง ห้า สอง \n",
       "13733    bridge ห้า สอง ถึง ห้า ห้า \n",
       "13734   bridge เจ็ด สอง ถึง เจ็ด หก \n",
       "13735     bridge ห้า เจ็ด ถึง หก หก \n",
       "13736       bridge หก หก ถึง สอง หก "
      ]
     },
     "execution_count": 32,
     "metadata": {},
     "output_type": "execute_result"
    }
   ],
   "source": [
    "#bridge\n",
    "for _ in range(2000) :\n",
    "    label = 'bridge '\n",
    "    for _ in range(2):\n",
    "        number = random.choice(numbers)\n",
    "        label += number + ' '\n",
    "    label += 'ถึง '\n",
    "    for _ in range(2):\n",
    "        number = random.choice(numbers)\n",
    "        label += number + ' '\n",
    "    df.loc[len(df)] = {'Label' : label}\n",
    "\n",
    "df.tail()"
   ]
  },
  {
   "cell_type": "code",
   "execution_count": 33,
   "metadata": {},
   "outputs": [
    {
     "data": {
      "text/html": [
       "<div>\n",
       "<style scoped>\n",
       "    .dataframe tbody tr th:only-of-type {\n",
       "        vertical-align: middle;\n",
       "    }\n",
       "\n",
       "    .dataframe tbody tr th {\n",
       "        vertical-align: top;\n",
       "    }\n",
       "\n",
       "    .dataframe thead th {\n",
       "        text-align: right;\n",
       "    }\n",
       "</style>\n",
       "<table border=\"1\" class=\"dataframe\">\n",
       "  <thead>\n",
       "    <tr style=\"text-align: right;\">\n",
       "      <th></th>\n",
       "      <th>Label</th>\n",
       "    </tr>\n",
       "  </thead>\n",
       "  <tbody>\n",
       "    <tr>\n",
       "      <th>15732</th>\n",
       "      <td>undo</td>\n",
       "    </tr>\n",
       "    <tr>\n",
       "      <th>15733</th>\n",
       "      <td>undo</td>\n",
       "    </tr>\n",
       "    <tr>\n",
       "      <th>15734</th>\n",
       "      <td>undo</td>\n",
       "    </tr>\n",
       "    <tr>\n",
       "      <th>15735</th>\n",
       "      <td>undo</td>\n",
       "    </tr>\n",
       "    <tr>\n",
       "      <th>15736</th>\n",
       "      <td>undo</td>\n",
       "    </tr>\n",
       "  </tbody>\n",
       "</table>\n",
       "</div>"
      ],
      "text/plain": [
       "      Label\n",
       "15732  undo\n",
       "15733  undo\n",
       "15734  undo\n",
       "15735  undo\n",
       "15736  undo"
      ]
     },
     "execution_count": 33,
     "metadata": {},
     "output_type": "execute_result"
    }
   ],
   "source": [
    "#bridge\n",
    "for _ in range(2000) :\n",
    "    label = 'undo'\n",
    "    df.loc[len(df)] = {'Label' : label}\n",
    "df.tail()"
   ]
  },
  {
   "cell_type": "code",
   "execution_count": 34,
   "metadata": {},
   "outputs": [
    {
     "data": {
      "text/html": [
       "<div>\n",
       "<style scoped>\n",
       "    .dataframe tbody tr th:only-of-type {\n",
       "        vertical-align: middle;\n",
       "    }\n",
       "\n",
       "    .dataframe tbody tr th {\n",
       "        vertical-align: top;\n",
       "    }\n",
       "\n",
       "    .dataframe thead th {\n",
       "        text-align: right;\n",
       "    }\n",
       "</style>\n",
       "<table border=\"1\" class=\"dataframe\">\n",
       "  <thead>\n",
       "    <tr style=\"text-align: right;\">\n",
       "      <th></th>\n",
       "      <th>Label</th>\n",
       "    </tr>\n",
       "  </thead>\n",
       "  <tbody>\n",
       "    <tr>\n",
       "      <th>17732</th>\n",
       "      <td>undo pdre bridge crown undo probingdepth pdre ...</td>\n",
       "    </tr>\n",
       "    <tr>\n",
       "      <th>17733</th>\n",
       "      <td>pdre undo implant lingual probingdepth lingual...</td>\n",
       "    </tr>\n",
       "    <tr>\n",
       "      <th>17734</th>\n",
       "      <td>undo crown undo probingdepth probingdepth brid...</td>\n",
       "    </tr>\n",
       "    <tr>\n",
       "      <th>17735</th>\n",
       "      <td>bridge probingdepth bridge pdre undo undo brid...</td>\n",
       "    </tr>\n",
       "    <tr>\n",
       "      <th>17736</th>\n",
       "      <td>implant crown probingdepth crown lingual probi...</td>\n",
       "    </tr>\n",
       "  </tbody>\n",
       "</table>\n",
       "</div>"
      ],
      "text/plain": [
       "                                                   Label\n",
       "17732  undo pdre bridge crown undo probingdepth pdre ...\n",
       "17733  pdre undo implant lingual probingdepth lingual...\n",
       "17734  undo crown undo probingdepth probingdepth brid...\n",
       "17735  bridge probingdepth bridge pdre undo undo brid...\n",
       "17736  implant crown probingdepth crown lingual probi..."
      ]
     },
     "execution_count": 34,
     "metadata": {},
     "output_type": "execute_result"
    }
   ],
   "source": [
    "for _ in range(2000) :\n",
    "    label = ''\n",
    "    for _ in range(10):\n",
    "        command = random.choice(commands)\n",
    "        label += command + ' '\n",
    "    df.loc[len(df)] = {'Label' : label}\n",
    "\n",
    "df.tail()"
   ]
  },
  {
   "cell_type": "code",
   "execution_count": 35,
   "metadata": {},
   "outputs": [],
   "source": [
    "df.to_csv('/Users/got/Documents/retune/t+im/dent/label1.csv', index=False)"
   ]
  },
  {
   "cell_type": "code",
   "execution_count": 37,
   "metadata": {},
   "outputs": [
    {
     "data": {
      "text/html": [
       "<div>\n",
       "<style scoped>\n",
       "    .dataframe tbody tr th:only-of-type {\n",
       "        vertical-align: middle;\n",
       "    }\n",
       "\n",
       "    .dataframe tbody tr th {\n",
       "        vertical-align: top;\n",
       "    }\n",
       "\n",
       "    .dataframe thead th {\n",
       "        text-align: right;\n",
       "    }\n",
       "</style>\n",
       "<table border=\"1\" class=\"dataframe\">\n",
       "  <thead>\n",
       "    <tr style=\"text-align: right;\">\n",
       "      <th></th>\n",
       "      <th>Label</th>\n",
       "    </tr>\n",
       "  </thead>\n",
       "  <tbody>\n",
       "    <tr>\n",
       "      <th>0</th>\n",
       "      <td>missing หนึ่ง เจ็ด หนึ่ง ห้า หนึ่ง สี่ หนึ่ง ส...</td>\n",
       "    </tr>\n",
       "    <tr>\n",
       "      <th>1</th>\n",
       "      <td>missing หนึ่ง หก หนึ่ง สาม สอง หนึ่ง สอง เจ็ด ...</td>\n",
       "    </tr>\n",
       "    <tr>\n",
       "      <th>2</th>\n",
       "      <td>missing หนึ่ง หก หนึ่ง สาม หนึ่ง หนึ่ง สอง สาม...</td>\n",
       "    </tr>\n",
       "    <tr>\n",
       "      <th>3</th>\n",
       "      <td>crown หนึ่ง เจ็ด สอง หนึ่ง สอง สาม สอง ห้า สอง...</td>\n",
       "    </tr>\n",
       "    <tr>\n",
       "      <th>4</th>\n",
       "      <td>crown หนึ่ง เจ็ด หนึ่ง สี่ หนึ่ง สอง หนึ่ง หนึ...</td>\n",
       "    </tr>\n",
       "    <tr>\n",
       "      <th>...</th>\n",
       "      <td>...</td>\n",
       "    </tr>\n",
       "    <tr>\n",
       "      <th>17732</th>\n",
       "      <td>undo pdre bridge crown undo probingdepth pdre ...</td>\n",
       "    </tr>\n",
       "    <tr>\n",
       "      <th>17733</th>\n",
       "      <td>pdre undo implant lingual probingdepth lingual...</td>\n",
       "    </tr>\n",
       "    <tr>\n",
       "      <th>17734</th>\n",
       "      <td>undo crown undo probingdepth probingdepth brid...</td>\n",
       "    </tr>\n",
       "    <tr>\n",
       "      <th>17735</th>\n",
       "      <td>bridge probingdepth bridge pdre undo undo brid...</td>\n",
       "    </tr>\n",
       "    <tr>\n",
       "      <th>17736</th>\n",
       "      <td>implant crown probingdepth crown lingual probi...</td>\n",
       "    </tr>\n",
       "  </tbody>\n",
       "</table>\n",
       "<p>17737 rows × 1 columns</p>\n",
       "</div>"
      ],
      "text/plain": [
       "                                                   Label\n",
       "0      missing หนึ่ง เจ็ด หนึ่ง ห้า หนึ่ง สี่ หนึ่ง ส...\n",
       "1      missing หนึ่ง หก หนึ่ง สาม สอง หนึ่ง สอง เจ็ด ...\n",
       "2      missing หนึ่ง หก หนึ่ง สาม หนึ่ง หนึ่ง สอง สาม...\n",
       "3      crown หนึ่ง เจ็ด สอง หนึ่ง สอง สาม สอง ห้า สอง...\n",
       "4      crown หนึ่ง เจ็ด หนึ่ง สี่ หนึ่ง สอง หนึ่ง หนึ...\n",
       "...                                                  ...\n",
       "17732  undo pdre bridge crown undo probingdepth pdre ...\n",
       "17733  pdre undo implant lingual probingdepth lingual...\n",
       "17734  undo crown undo probingdepth probingdepth brid...\n",
       "17735  bridge probingdepth bridge pdre undo undo brid...\n",
       "17736  implant crown probingdepth crown lingual probi...\n",
       "\n",
       "[17737 rows x 1 columns]"
      ]
     },
     "execution_count": 37,
     "metadata": {},
     "output_type": "execute_result"
    }
   ],
   "source": [
    "df = pd.read_csv('/Users/got/Documents/retune/t+im/dent/label1.csv')\n",
    "df"
   ]
  },
  {
   "cell_type": "code",
   "execution_count": 38,
   "metadata": {},
   "outputs": [
    {
     "name": "stdout",
     "output_type": "stream",
     "text": [
      "Done! Check the output file\n"
     ]
    }
   ],
   "source": [
    "labels = df['Label']\n",
    "\n",
    "output_file_path = '/Users/got/Documents/retune/t+im/dent/word-level-formatted.txt'\n",
    "\n",
    "with  open(output_file_path, 'w') as file:\n",
    "    for _ in range(8): \n",
    "        for label in labels:\n",
    "            file.write(str(label) + \" \" + \"\\n\")\n",
    "print(\"Done! Check the output file\")\n"
   ]
  },
  {
   "cell_type": "code",
   "execution_count": 39,
   "metadata": {},
   "outputs": [
    {
     "name": "stdout",
     "output_type": "stream",
     "text": [
      "['i', 'm', 'p', 'l', 'a', 'n', 't', '#', 'c', 'r', 'o', 'w', 'n', '#', 'p', 'r', 'o', 'b', 'i', 'n', 'g', 'd', 'e', 'p', 't', 'h', '#', 'c', 'r', 'o', 'w', 'n', '#', 'l', 'i', 'n', 'g', 'u', 'a', 'l', '#', 'p', 'r', 'o', 'b', 'i', 'n', 'g', 'd', 'e', 'p', 't', 'h', '#', 'b', 'r', 'i', 'd', 'g', 'e', '#', 'c', 'r', 'o', 'w', 'n', '#', 'p', 'r', 'o', 'b', 'i', 'n', 'g', 'd', 'e', 'p', 't', 'h', '#', 'p', 'd', 'r', 'e', '#']\n",
      "i m p l a n t # c r o w n # p r o b i n g d e p t h # c r o w n # l i n g u a l # p r o b i n g d e p t h # b r i d g e # c r o w n # p r o b i n g d e p t h # p d r e #\n",
      "Done! Check the output file\n"
     ]
    }
   ],
   "source": [
    "output_file_path = '/Users/got/Documents/retune/t+im/dent/char-level-formatted.txt'\n",
    "label_list = []\n",
    "label = \"\"\n",
    "with  open(output_file_path, 'w') as file:\n",
    "    for _ in range(8):\n",
    "        for label in labels:\n",
    "            label = label.replace(\" \", \"#\")\n",
    "            label_list = [char for char in label]\n",
    "            label = \" \".join(label_list)\n",
    "            file.write(str(label) + \"\\n\")\n",
    "print(label_list)\n",
    "print(label)\n",
    "print(\"Done! Check the output file\")"
   ]
  },
  {
   "cell_type": "code",
   "execution_count": 40,
   "metadata": {},
   "outputs": [
    {
     "data": {
      "text/html": [
       "<div>\n",
       "<style scoped>\n",
       "    .dataframe tbody tr th:only-of-type {\n",
       "        vertical-align: middle;\n",
       "    }\n",
       "\n",
       "    .dataframe tbody tr th {\n",
       "        vertical-align: top;\n",
       "    }\n",
       "\n",
       "    .dataframe thead th {\n",
       "        text-align: right;\n",
       "    }\n",
       "</style>\n",
       "<table border=\"1\" class=\"dataframe\">\n",
       "  <thead>\n",
       "    <tr style=\"text-align: right;\">\n",
       "      <th></th>\n",
       "      <th>Label</th>\n",
       "    </tr>\n",
       "  </thead>\n",
       "  <tbody>\n",
       "    <tr>\n",
       "      <th>0</th>\n",
       "      <td>missing หนึ่ง เจ็ด หนึ่ง ห้า หนึ่ง สี่ หนึ่ง ส...</td>\n",
       "    </tr>\n",
       "    <tr>\n",
       "      <th>1</th>\n",
       "      <td>missing หนึ่ง หก หนึ่ง สาม สอง หนึ่ง สอง เจ็ด ...</td>\n",
       "    </tr>\n",
       "    <tr>\n",
       "      <th>2</th>\n",
       "      <td>missing หนึ่ง หก หนึ่ง สาม หนึ่ง หนึ่ง สอง สาม...</td>\n",
       "    </tr>\n",
       "    <tr>\n",
       "      <th>3</th>\n",
       "      <td>crown หนึ่ง เจ็ด สอง หนึ่ง สอง สาม สอง ห้า สอง...</td>\n",
       "    </tr>\n",
       "    <tr>\n",
       "      <th>4</th>\n",
       "      <td>crown หนึ่ง เจ็ด หนึ่ง สี่ หนึ่ง สอง หนึ่ง หนึ...</td>\n",
       "    </tr>\n",
       "    <tr>\n",
       "      <th>...</th>\n",
       "      <td>...</td>\n",
       "    </tr>\n",
       "    <tr>\n",
       "      <th>17732</th>\n",
       "      <td>undo pdre bridge crown undo probingdepth pdre ...</td>\n",
       "    </tr>\n",
       "    <tr>\n",
       "      <th>17733</th>\n",
       "      <td>pdre undo implant lingual probingdepth lingual...</td>\n",
       "    </tr>\n",
       "    <tr>\n",
       "      <th>17734</th>\n",
       "      <td>undo crown undo probingdepth probingdepth brid...</td>\n",
       "    </tr>\n",
       "    <tr>\n",
       "      <th>17735</th>\n",
       "      <td>bridge probingdepth bridge pdre undo undo brid...</td>\n",
       "    </tr>\n",
       "    <tr>\n",
       "      <th>17736</th>\n",
       "      <td>implant crown probingdepth crown lingual probi...</td>\n",
       "    </tr>\n",
       "  </tbody>\n",
       "</table>\n",
       "<p>17737 rows × 1 columns</p>\n",
       "</div>"
      ],
      "text/plain": [
       "                                                   Label\n",
       "0      missing หนึ่ง เจ็ด หนึ่ง ห้า หนึ่ง สี่ หนึ่ง ส...\n",
       "1      missing หนึ่ง หก หนึ่ง สาม สอง หนึ่ง สอง เจ็ด ...\n",
       "2      missing หนึ่ง หก หนึ่ง สาม หนึ่ง หนึ่ง สอง สาม...\n",
       "3      crown หนึ่ง เจ็ด สอง หนึ่ง สอง สาม สอง ห้า สอง...\n",
       "4      crown หนึ่ง เจ็ด หนึ่ง สี่ หนึ่ง สอง หนึ่ง หนึ...\n",
       "...                                                  ...\n",
       "17732  undo pdre bridge crown undo probingdepth pdre ...\n",
       "17733  pdre undo implant lingual probingdepth lingual...\n",
       "17734  undo crown undo probingdepth probingdepth brid...\n",
       "17735  bridge probingdepth bridge pdre undo undo brid...\n",
       "17736  implant crown probingdepth crown lingual probi...\n",
       "\n",
       "[17737 rows x 1 columns]"
      ]
     },
     "execution_count": 40,
     "metadata": {},
     "output_type": "execute_result"
    }
   ],
   "source": [
    "output = df \n",
    "df "
   ]
  },
  {
   "cell_type": "code",
   "execution_count": null,
   "metadata": {},
   "outputs": [],
   "source": []
  }
 ],
 "metadata": {
  "kernelspec": {
   "display_name": "retuneenv",
   "language": "python",
   "name": "python3"
  },
  "language_info": {
   "codemirror_mode": {
    "name": "ipython",
    "version": 3
   },
   "file_extension": ".py",
   "mimetype": "text/x-python",
   "name": "python",
   "nbconvert_exporter": "python",
   "pygments_lexer": "ipython3",
   "version": "3.10.13"
  }
 },
 "nbformat": 4,
 "nbformat_minor": 2
}
