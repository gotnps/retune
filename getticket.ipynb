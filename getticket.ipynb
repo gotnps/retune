{
 "cells": [
  {
   "cell_type": "code",
   "execution_count": 37,
   "metadata": {},
   "outputs": [],
   "source": [
    "import time\n",
    "from selenium import webdriver\n",
    "from selenium.webdriver.common.by import By\n",
    "from selenium.webdriver.common.keys import Keys\n",
    "from selenium.webdriver.support.ui import WebDriverWait\n",
    "from selenium.webdriver.support import expected_conditions as EC\n",
    "from selenium.webdriver.chrome.service import Service\n",
    "from selenium.webdriver.common.action_chains import ActionChains\n",
    "from selenium.common.exceptions import StaleElementReferenceException\n",
    "from selenium.webdriver.chrome.options import Options \n"
   ]
  },
  {
   "cell_type": "code",
   "execution_count": 89,
   "metadata": {},
   "outputs": [],
   "source": [
    "def startChrome():\n",
    "    chrome_driver_path = '/Users/got/Documents/retune/t+im/chromedriver-mac-119/chromedriver'\n",
    "    service = webdriver.chrome.service.Service(chrome_driver_path)\n",
    "\n",
    "    # profile_dir = \t\"/Users/got/Library/Application Support/Google/Chrome/Profile/\"\n",
    "    options = webdriver.ChromeOptions()\n",
    "    # options.add_argument(f'--user-data-dir={profile_dir}')\n",
    "\n",
    "    driver = webdriver.Chrome(service=service, options=options)\n",
    "    driver.maximize_window()\n",
    "    return driver"
   ]
  },
  {
   "cell_type": "markdown",
   "metadata": {},
   "source": [
    "# The Concert"
   ]
  },
  {
   "cell_type": "code",
   "execution_count": 6,
   "metadata": {},
   "outputs": [],
   "source": [
    "#url to the concert page \n",
    "url = \"https://www.theconcert.com/concert/2675\""
   ]
  },
  {
   "cell_type": "code",
   "execution_count": 120,
   "metadata": {},
   "outputs": [],
   "source": [
    "# driver = startChrome()\n",
    "chrome_driver_path = '/Users/got/Documents/retune/t+im/chromedriver-mac-119/chromedriver'\n",
    "service = webdriver.chrome.service.Service(chrome_driver_path)\n",
    "\n",
    "# profile_dir = \t\"/Users/got/Library/Application Support/Google/Chrome/Profile1/\"\n",
    "# options = webdriver.ChromeOptions()\n",
    "# options.add_argument(f'--user-data-dir={profile_dir}')\n",
    "# driver = webdriver.Chrome(service=service, options=options)\n",
    "\n",
    "driver = webdriver.Chrome(service=service)\n",
    "driver.maximize_window()\n",
    "driver.get(url)\n",
    "\n",
    "wait = WebDriverWait(driver,10)\n",
    "btn_locator = (By.CLASS_NAME, \"btn-reserve\")\n",
    "button = wait.until(EC.element_to_be_clickable(btn_locator))\n",
    "button.click()\n"
   ]
  },
  {
   "cell_type": "code",
   "execution_count": null,
   "metadata": {},
   "outputs": [],
   "source": []
  }
 ],
 "metadata": {
  "kernelspec": {
   "display_name": ".venv",
   "language": "python",
   "name": "python3"
  },
  "language_info": {
   "codemirror_mode": {
    "name": "ipython",
    "version": 3
   },
   "file_extension": ".py",
   "mimetype": "text/x-python",
   "name": "python",
   "nbconvert_exporter": "python",
   "pygments_lexer": "ipython3",
   "version": "3.10.13"
  },
  "orig_nbformat": 4
 },
 "nbformat": 4,
 "nbformat_minor": 2
}
