{
 "cells": [
  {
   "cell_type": "code",
   "execution_count": 1,
   "metadata": {},
   "outputs": [],
   "source": [
    "import time\n",
    "from selenium import webdriver\n",
    "from selenium.webdriver.common.by import By\n",
    "from selenium.webdriver.common.keys import Keys\n",
    "from selenium.webdriver.support.ui import WebDriverWait\n",
    "from selenium.webdriver.support import expected_conditions as EC\n",
    "from selenium.webdriver.chrome.service import Service\n",
    "from selenium.webdriver.common.action_chains import ActionChains\n",
    "from selenium.common.exceptions import StaleElementReferenceException\n",
    "from selenium.webdriver.chrome.options import Options \n"
   ]
  },
  {
   "cell_type": "code",
   "execution_count": 89,
   "metadata": {},
   "outputs": [],
   "source": [
    "def startChrome():\n",
    "    chrome_driver_path = '/Users/got/Documents/retune/t+im/chromedriver-mac-119/chromedriver'\n",
    "    service = webdriver.chrome.service.Service(chrome_driver_path)\n",
    "\n",
    "    # profile_dir = \t\"/Users/got/Library/Application Support/Google/Chrome/Profile/\"\n",
    "    options = webdriver.ChromeOptions()\n",
    "    # options.add_argument(f'--user-data-dir={profile_dir}')\n",
    "\n",
    "    driver = webdriver.Chrome(service=service, options=options)\n",
    "    driver.maximize_window()\n",
    "    return driver"
   ]
  },
  {
   "cell_type": "markdown",
   "metadata": {},
   "source": [
    "# The Concert"
   ]
  },
  {
   "cell_type": "code",
   "execution_count": 2,
   "metadata": {},
   "outputs": [],
   "source": [
    "#url to the concert page \n",
    "url = \"https://www.theconcert.com/concert/2675\""
   ]
  },
  {
   "cell_type": "code",
   "execution_count": 10,
   "metadata": {},
   "outputs": [
    {
     "ename": "SessionNotCreatedException",
     "evalue": "Message: session not created: Chrome failed to start: exited normally.\n  (session not created: DevToolsActivePort file doesn't exist)\n  (The process started from chrome location /Applications/Google Chrome.app/Contents/MacOS/Google Chrome is no longer running, so ChromeDriver is assuming that Chrome has crashed.)\nStacktrace:\n0   chromedriver                        0x000000010dc94d28 chromedriver + 4795688\n1   chromedriver                        0x000000010dc8c2b3 chromedriver + 4760243\n2   chromedriver                        0x000000010d86588d chromedriver + 407693\n3   chromedriver                        0x000000010d89cc6e chromedriver + 633966\n4   chromedriver                        0x000000010d89928c chromedriver + 619148\n5   chromedriver                        0x000000010d8e5afb chromedriver + 932603\n6   chromedriver                        0x000000010d8dba73 chromedriver + 891507\n7   chromedriver                        0x000000010d8a6143 chromedriver + 672067\n8   chromedriver                        0x000000010d8a731e chromedriver + 676638\n9   chromedriver                        0x000000010dc55795 chromedriver + 4536213\n10  chromedriver                        0x000000010dc5a853 chromedriver + 4556883\n11  chromedriver                        0x000000010dc3b001 chromedriver + 4427777\n12  chromedriver                        0x000000010dc5b59d chromedriver + 4560285\n13  chromedriver                        0x000000010dc2c48c chromedriver + 4367500\n14  chromedriver                        0x000000010dc7b0e8 chromedriver + 4690152\n15  chromedriver                        0x000000010dc7b29e chromedriver + 4690590\n16  chromedriver                        0x000000010dc8beee chromedriver + 4759278\n17  libsystem_pthread.dylib             0x00007ff81bb7f1d3 _pthread_start + 125\n18  libsystem_pthread.dylib             0x00007ff81bb7abd3 thread_start + 15\n",
     "output_type": "error",
     "traceback": [
      "\u001b[0;31m---------------------------------------------------------------------------\u001b[0m",
      "\u001b[0;31mSessionNotCreatedException\u001b[0m                Traceback (most recent call last)",
      "\u001b[1;32m/Users/got/Documents/retune/t+im/getticket.ipynb Cell 5\u001b[0m line \u001b[0;36m8\n\u001b[1;32m      <a href='vscode-notebook-cell:/Users/got/Documents/retune/t%2Bim/getticket.ipynb#W4sZmlsZQ%3D%3D?line=5'>6</a>\u001b[0m options \u001b[39m=\u001b[39m webdriver\u001b[39m.\u001b[39mChromeOptions()\n\u001b[1;32m      <a href='vscode-notebook-cell:/Users/got/Documents/retune/t%2Bim/getticket.ipynb#W4sZmlsZQ%3D%3D?line=6'>7</a>\u001b[0m options\u001b[39m.\u001b[39madd_argument(\u001b[39mf\u001b[39m\u001b[39m'\u001b[39m\u001b[39m--user-data-dir=\u001b[39m\u001b[39m{\u001b[39;00mprofile_dir\u001b[39m}\u001b[39;00m\u001b[39m'\u001b[39m)\n\u001b[0;32m----> <a href='vscode-notebook-cell:/Users/got/Documents/retune/t%2Bim/getticket.ipynb#W4sZmlsZQ%3D%3D?line=7'>8</a>\u001b[0m driver \u001b[39m=\u001b[39m webdriver\u001b[39m.\u001b[39;49mChrome(service\u001b[39m=\u001b[39;49mservice, options\u001b[39m=\u001b[39;49moptions)\n\u001b[1;32m     <a href='vscode-notebook-cell:/Users/got/Documents/retune/t%2Bim/getticket.ipynb#W4sZmlsZQ%3D%3D?line=9'>10</a>\u001b[0m driver\u001b[39m.\u001b[39mmaximize_window()\n\u001b[1;32m     <a href='vscode-notebook-cell:/Users/got/Documents/retune/t%2Bim/getticket.ipynb#W4sZmlsZQ%3D%3D?line=10'>11</a>\u001b[0m driver\u001b[39m.\u001b[39mget(url)\n",
      "File \u001b[0;32m~/opt/anaconda3/envs/retuneenv/lib/python3.10/site-packages/selenium/webdriver/chrome/webdriver.py:45\u001b[0m, in \u001b[0;36mWebDriver.__init__\u001b[0;34m(self, options, service, keep_alive)\u001b[0m\n\u001b[1;32m     42\u001b[0m service \u001b[39m=\u001b[39m service \u001b[39mif\u001b[39;00m service \u001b[39melse\u001b[39;00m Service()\n\u001b[1;32m     43\u001b[0m options \u001b[39m=\u001b[39m options \u001b[39mif\u001b[39;00m options \u001b[39melse\u001b[39;00m Options()\n\u001b[0;32m---> 45\u001b[0m \u001b[39msuper\u001b[39;49m()\u001b[39m.\u001b[39;49m\u001b[39m__init__\u001b[39;49m(\n\u001b[1;32m     46\u001b[0m     DesiredCapabilities\u001b[39m.\u001b[39;49mCHROME[\u001b[39m\"\u001b[39;49m\u001b[39mbrowserName\u001b[39;49m\u001b[39m\"\u001b[39;49m],\n\u001b[1;32m     47\u001b[0m     \u001b[39m\"\u001b[39;49m\u001b[39mgoog\u001b[39;49m\u001b[39m\"\u001b[39;49m,\n\u001b[1;32m     48\u001b[0m     options,\n\u001b[1;32m     49\u001b[0m     service,\n\u001b[1;32m     50\u001b[0m     keep_alive,\n\u001b[1;32m     51\u001b[0m )\n",
      "File \u001b[0;32m~/opt/anaconda3/envs/retuneenv/lib/python3.10/site-packages/selenium/webdriver/chromium/webdriver.py:56\u001b[0m, in \u001b[0;36mChromiumDriver.__init__\u001b[0;34m(self, browser_name, vendor_prefix, options, service, keep_alive)\u001b[0m\n\u001b[1;32m     53\u001b[0m \u001b[39mself\u001b[39m\u001b[39m.\u001b[39mservice\u001b[39m.\u001b[39mstart()\n\u001b[1;32m     55\u001b[0m \u001b[39mtry\u001b[39;00m:\n\u001b[0;32m---> 56\u001b[0m     \u001b[39msuper\u001b[39;49m()\u001b[39m.\u001b[39;49m\u001b[39m__init__\u001b[39;49m(\n\u001b[1;32m     57\u001b[0m         command_executor\u001b[39m=\u001b[39;49mChromiumRemoteConnection(\n\u001b[1;32m     58\u001b[0m             remote_server_addr\u001b[39m=\u001b[39;49m\u001b[39mself\u001b[39;49m\u001b[39m.\u001b[39;49mservice\u001b[39m.\u001b[39;49mservice_url,\n\u001b[1;32m     59\u001b[0m             browser_name\u001b[39m=\u001b[39;49mbrowser_name,\n\u001b[1;32m     60\u001b[0m             vendor_prefix\u001b[39m=\u001b[39;49mvendor_prefix,\n\u001b[1;32m     61\u001b[0m             keep_alive\u001b[39m=\u001b[39;49mkeep_alive,\n\u001b[1;32m     62\u001b[0m             ignore_proxy\u001b[39m=\u001b[39;49moptions\u001b[39m.\u001b[39;49m_ignore_local_proxy,\n\u001b[1;32m     63\u001b[0m         ),\n\u001b[1;32m     64\u001b[0m         options\u001b[39m=\u001b[39;49moptions,\n\u001b[1;32m     65\u001b[0m     )\n\u001b[1;32m     66\u001b[0m \u001b[39mexcept\u001b[39;00m \u001b[39mException\u001b[39;00m:\n\u001b[1;32m     67\u001b[0m     \u001b[39mself\u001b[39m\u001b[39m.\u001b[39mquit()\n",
      "File \u001b[0;32m~/opt/anaconda3/envs/retuneenv/lib/python3.10/site-packages/selenium/webdriver/remote/webdriver.py:208\u001b[0m, in \u001b[0;36mWebDriver.__init__\u001b[0;34m(self, command_executor, keep_alive, file_detector, options)\u001b[0m\n\u001b[1;32m    206\u001b[0m \u001b[39mself\u001b[39m\u001b[39m.\u001b[39m_authenticator_id \u001b[39m=\u001b[39m \u001b[39mNone\u001b[39;00m\n\u001b[1;32m    207\u001b[0m \u001b[39mself\u001b[39m\u001b[39m.\u001b[39mstart_client()\n\u001b[0;32m--> 208\u001b[0m \u001b[39mself\u001b[39;49m\u001b[39m.\u001b[39;49mstart_session(capabilities)\n",
      "File \u001b[0;32m~/opt/anaconda3/envs/retuneenv/lib/python3.10/site-packages/selenium/webdriver/remote/webdriver.py:292\u001b[0m, in \u001b[0;36mWebDriver.start_session\u001b[0;34m(self, capabilities)\u001b[0m\n\u001b[1;32m    285\u001b[0m \u001b[39m\u001b[39m\u001b[39m\"\"\"Creates a new session with the desired capabilities.\u001b[39;00m\n\u001b[1;32m    286\u001b[0m \n\u001b[1;32m    287\u001b[0m \u001b[39m:Args:\u001b[39;00m\n\u001b[1;32m    288\u001b[0m \u001b[39m - capabilities - a capabilities dict to start the session with.\u001b[39;00m\n\u001b[1;32m    289\u001b[0m \u001b[39m\"\"\"\u001b[39;00m\n\u001b[1;32m    291\u001b[0m caps \u001b[39m=\u001b[39m _create_caps(capabilities)\n\u001b[0;32m--> 292\u001b[0m response \u001b[39m=\u001b[39m \u001b[39mself\u001b[39;49m\u001b[39m.\u001b[39;49mexecute(Command\u001b[39m.\u001b[39;49mNEW_SESSION, caps)[\u001b[39m\"\u001b[39m\u001b[39mvalue\u001b[39m\u001b[39m\"\u001b[39m]\n\u001b[1;32m    293\u001b[0m \u001b[39mself\u001b[39m\u001b[39m.\u001b[39msession_id \u001b[39m=\u001b[39m response\u001b[39m.\u001b[39mget(\u001b[39m\"\u001b[39m\u001b[39msessionId\u001b[39m\u001b[39m\"\u001b[39m)\n\u001b[1;32m    294\u001b[0m \u001b[39mself\u001b[39m\u001b[39m.\u001b[39mcaps \u001b[39m=\u001b[39m response\u001b[39m.\u001b[39mget(\u001b[39m\"\u001b[39m\u001b[39mcapabilities\u001b[39m\u001b[39m\"\u001b[39m)\n",
      "File \u001b[0;32m~/opt/anaconda3/envs/retuneenv/lib/python3.10/site-packages/selenium/webdriver/remote/webdriver.py:347\u001b[0m, in \u001b[0;36mWebDriver.execute\u001b[0;34m(self, driver_command, params)\u001b[0m\n\u001b[1;32m    345\u001b[0m response \u001b[39m=\u001b[39m \u001b[39mself\u001b[39m\u001b[39m.\u001b[39mcommand_executor\u001b[39m.\u001b[39mexecute(driver_command, params)\n\u001b[1;32m    346\u001b[0m \u001b[39mif\u001b[39;00m response:\n\u001b[0;32m--> 347\u001b[0m     \u001b[39mself\u001b[39;49m\u001b[39m.\u001b[39;49merror_handler\u001b[39m.\u001b[39;49mcheck_response(response)\n\u001b[1;32m    348\u001b[0m     response[\u001b[39m\"\u001b[39m\u001b[39mvalue\u001b[39m\u001b[39m\"\u001b[39m] \u001b[39m=\u001b[39m \u001b[39mself\u001b[39m\u001b[39m.\u001b[39m_unwrap_value(response\u001b[39m.\u001b[39mget(\u001b[39m\"\u001b[39m\u001b[39mvalue\u001b[39m\u001b[39m\"\u001b[39m, \u001b[39mNone\u001b[39;00m))\n\u001b[1;32m    349\u001b[0m     \u001b[39mreturn\u001b[39;00m response\n",
      "File \u001b[0;32m~/opt/anaconda3/envs/retuneenv/lib/python3.10/site-packages/selenium/webdriver/remote/errorhandler.py:229\u001b[0m, in \u001b[0;36mErrorHandler.check_response\u001b[0;34m(self, response)\u001b[0m\n\u001b[1;32m    227\u001b[0m         alert_text \u001b[39m=\u001b[39m value[\u001b[39m\"\u001b[39m\u001b[39malert\u001b[39m\u001b[39m\"\u001b[39m]\u001b[39m.\u001b[39mget(\u001b[39m\"\u001b[39m\u001b[39mtext\u001b[39m\u001b[39m\"\u001b[39m)\n\u001b[1;32m    228\u001b[0m     \u001b[39mraise\u001b[39;00m exception_class(message, screen, stacktrace, alert_text)  \u001b[39m# type: ignore[call-arg]  # mypy is not smart enough here\u001b[39;00m\n\u001b[0;32m--> 229\u001b[0m \u001b[39mraise\u001b[39;00m exception_class(message, screen, stacktrace)\n",
      "\u001b[0;31mSessionNotCreatedException\u001b[0m: Message: session not created: Chrome failed to start: exited normally.\n  (session not created: DevToolsActivePort file doesn't exist)\n  (The process started from chrome location /Applications/Google Chrome.app/Contents/MacOS/Google Chrome is no longer running, so ChromeDriver is assuming that Chrome has crashed.)\nStacktrace:\n0   chromedriver                        0x000000010dc94d28 chromedriver + 4795688\n1   chromedriver                        0x000000010dc8c2b3 chromedriver + 4760243\n2   chromedriver                        0x000000010d86588d chromedriver + 407693\n3   chromedriver                        0x000000010d89cc6e chromedriver + 633966\n4   chromedriver                        0x000000010d89928c chromedriver + 619148\n5   chromedriver                        0x000000010d8e5afb chromedriver + 932603\n6   chromedriver                        0x000000010d8dba73 chromedriver + 891507\n7   chromedriver                        0x000000010d8a6143 chromedriver + 672067\n8   chromedriver                        0x000000010d8a731e chromedriver + 676638\n9   chromedriver                        0x000000010dc55795 chromedriver + 4536213\n10  chromedriver                        0x000000010dc5a853 chromedriver + 4556883\n11  chromedriver                        0x000000010dc3b001 chromedriver + 4427777\n12  chromedriver                        0x000000010dc5b59d chromedriver + 4560285\n13  chromedriver                        0x000000010dc2c48c chromedriver + 4367500\n14  chromedriver                        0x000000010dc7b0e8 chromedriver + 4690152\n15  chromedriver                        0x000000010dc7b29e chromedriver + 4690590\n16  chromedriver                        0x000000010dc8beee chromedriver + 4759278\n17  libsystem_pthread.dylib             0x00007ff81bb7f1d3 _pthread_start + 125\n18  libsystem_pthread.dylib             0x00007ff81bb7abd3 thread_start + 15\n"
     ]
    }
   ],
   "source": [
    "# driver = startChrome()\n",
    "chrome_driver_path = '/Users/got/Documents/retune/t+im/chromedriver-mac-119/chromedriver'\n",
    "service = webdriver.chrome.service.Service(chrome_driver_path)\n",
    "\n",
    "profile_dir = \t\"/Users/got/Library/Application Support/Google/Chrome/Profile1/\"\n",
    "options = webdriver.ChromeOptions()\n",
    "options.add_argument(f'--user-data-dir={profile_dir}')\n",
    "driver = webdriver.Chrome(service=service, options=options)\n",
    "\n",
    "driver.maximize_window()\n",
    "driver.get(url)\n",
    "\n",
    "wait = WebDriverWait(driver,10)\n",
    "btn_locator = (By.CLASS_NAME, \"btn-reserve\")\n",
    "button = wait.until(EC.element_to_be_clickable(btn_locator))\n",
    "button.click()\n"
   ]
  },
  {
   "cell_type": "code",
   "execution_count": null,
   "metadata": {},
   "outputs": [],
   "source": []
  }
 ],
 "metadata": {
  "kernelspec": {
   "display_name": ".venv",
   "language": "python",
   "name": "python3"
  },
  "language_info": {
   "codemirror_mode": {
    "name": "ipython",
    "version": 3
   },
   "file_extension": ".py",
   "mimetype": "text/x-python",
   "name": "python",
   "nbconvert_exporter": "python",
   "pygments_lexer": "ipython3",
   "version": "3.10.13"
  },
  "orig_nbformat": 4
 },
 "nbformat": 4,
 "nbformat_minor": 2
}
